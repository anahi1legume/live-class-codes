{
 "cells": [
  {
   "cell_type": "code",
   "execution_count": 1,
   "metadata": {},
   "outputs": [],
   "source": [
    "# Importing the required libraries\n",
    "import pandas as pd, numpy as np\n",
    "import matplotlib.pyplot as plt, seaborn as sns\n",
    "%matplotlib inline"
   ]
  },
  {
   "cell_type": "code",
   "execution_count": 2,
   "metadata": {},
   "outputs": [],
   "source": [
    "import warnings\n",
    "warnings.filterwarnings(\"ignore\")"
   ]
  },
  {
   "cell_type": "code",
   "execution_count": 3,
   "metadata": {},
   "outputs": [],
   "source": [
    "from functools import partial"
   ]
  },
  {
   "cell_type": "code",
   "execution_count": 4,
   "metadata": {},
   "outputs": [
    {
     "ename": "ModuleNotFoundError",
     "evalue": "No module named 'jrjModelRegistry'",
     "output_type": "error",
     "traceback": [
      "\u001b[31m---------------------------------------------------------------------------\u001b[39m",
      "\u001b[31mModuleNotFoundError\u001b[39m                       Traceback (most recent call last)",
      "\u001b[36mCell\u001b[39m\u001b[36m \u001b[39m\u001b[32mIn[4]\u001b[39m\u001b[32m, line 10\u001b[39m\n\u001b[32m      8\u001b[39m     \u001b[38;5;28mprint\u001b[39m(\u001b[33m'\u001b[39m\u001b[33menvs Loaded\u001b[39m\u001b[33m'\u001b[39m)\n\u001b[32m      9\u001b[39m     load_dotenv(dotenv_path=env_path)\n\u001b[32m---> \u001b[39m\u001b[32m10\u001b[39m \u001b[38;5;28;01mfrom\u001b[39;00m\u001b[38;5;250m \u001b[39m\u001b[34;01mjrjModelRegistry\u001b[39;00m\u001b[34;01m.\u001b[39;00m\u001b[34;01mjrjModelRegistry\u001b[39;00m\u001b[38;5;250m \u001b[39m\u001b[38;5;28;01mimport\u001b[39;00m registerAJrjModel\n",
      "\u001b[31mModuleNotFoundError\u001b[39m: No module named 'jrjModelRegistry'"
     ]
    }
   ],
   "source": [
    "from dotenv import load_dotenv\n",
    "\n",
    "from pathlib import Path\n",
    "\n",
    "env_path = Path(\"../../.env-live\")\n",
    "\n",
    "if env_path.exists():\n",
    "    print('envs Loaded')\n",
    "    load_dotenv(dotenv_path=env_path)\n",
    "from jrjModelRegistry.jrjModelRegistry import registerAJrjModel"
   ]
  },
  {
   "cell_type": "code",
   "execution_count": null,
   "metadata": {},
   "outputs": [],
   "source": [
    "def generalDtPredictor(self, transformedData):\n",
    "    import pandas as pd\n",
    "    probs = self.predict_proba(transformedData)\n",
    "    return pd.Series(probs[:, 1])"
   ]
  },
  {
   "cell_type": "code",
   "execution_count": null,
   "metadata": {},
   "outputs": [],
   "source": [
    "def generalDtTransformer(dataForTransfer = None):\n",
    "    import pandas as pd\n",
    "    if isinstance(dataForTransfer, pd.DataFrame):\n",
    "        df = dataForTransfer.copy()\n",
    "    else:\n",
    "        df = pd.DataFrame(dataForTransfer)\n",
    "    return df"
   ]
  },
  {
   "cell_type": "code",
   "execution_count": null,
   "metadata": {},
   "outputs": [],
   "source": [
    "# Reading the csv file and putting it into 'df' object.\n",
    "df = pd.read_csv('heart_v2.csv')"
   ]
  },
  {
   "cell_type": "code",
   "execution_count": null,
   "metadata": {
    "scrolled": true
   },
   "outputs": [],
   "source": [
    "df.columns"
   ]
  },
  {
   "cell_type": "code",
   "execution_count": null,
   "metadata": {
    "scrolled": true
   },
   "outputs": [],
   "source": [
    "df.head()"
   ]
  },
  {
   "cell_type": "code",
   "execution_count": null,
   "metadata": {},
   "outputs": [],
   "source": [
    "hDSampleData = {\n",
    "    \"age\": [70],\n",
    "    \"sex\": [1],\n",
    "    \"BP\": [130],\n",
    "    \"cholestrol\": [322],\n",
    "}\n",
    "hDSampleData"
   ]
  },
  {
   "cell_type": "code",
   "execution_count": null,
   "metadata": {},
   "outputs": [],
   "source": [
    "# Putting feature variable to X\n",
    "X = df.drop('heart disease',axis=1)\n",
    "\n",
    "# Putting response variable to y\n",
    "y = df['heart disease']"
   ]
  },
  {
   "cell_type": "code",
   "execution_count": null,
   "metadata": {},
   "outputs": [],
   "source": [
    "from sklearn.model_selection import train_test_split"
   ]
  },
  {
   "cell_type": "code",
   "execution_count": null,
   "metadata": {},
   "outputs": [],
   "source": [
    "X_train, X_test, y_train, y_test = train_test_split(X, y, train_size=0.7, random_state=42)\n",
    "X_train.shape, X_test.shape"
   ]
  },
  {
   "cell_type": "markdown",
   "metadata": {},
   "source": [
    "Fitting the decision tree with default hyperparameters, apart from max_depth which is 3 so that we can plot and read the tree."
   ]
  },
  {
   "cell_type": "code",
   "execution_count": null,
   "metadata": {},
   "outputs": [],
   "source": [
    "from sklearn.tree import DecisionTreeClassifier"
   ]
  },
  {
   "cell_type": "code",
   "execution_count": null,
   "metadata": {},
   "outputs": [],
   "source": [
    "dt = DecisionTreeClassifier(max_depth=3)\n",
    "dt.fit(X_train, y_train)"
   ]
  },
  {
   "cell_type": "code",
   "execution_count": null,
   "metadata": {},
   "outputs": [],
   "source": [
    "!pip install six"
   ]
  },
  {
   "cell_type": "code",
   "execution_count": null,
   "metadata": {},
   "outputs": [],
   "source": [
    "# Importing required packages for visualization\n",
    "from IPython.display import Image  \n",
    "from six import StringIO  \n",
    "from sklearn.tree import export_graphviz\n",
    "import pydotplus, graphviz"
   ]
  },
  {
   "cell_type": "code",
   "execution_count": null,
   "metadata": {},
   "outputs": [],
   "source": [
    "# plotting tree with max_depth=3\n",
    "dot_data = StringIO()  \n",
    "\n",
    "export_graphviz(dt, out_file=dot_data, filled=True, rounded=True,\n",
    "                feature_names=X.columns, \n",
    "                class_names=['No Disease', \"Disease\"])\n",
    "\n",
    "graph = pydotplus.graph_from_dot_data(dot_data.getvalue())\n",
    "Image(graph.create_png())\n",
    "#Image(graph.create_png(),width=800,height=900)\n",
    "#graph.write_pdf(\"dt_heartdisease.pdf\")"
   ]
  },
  {
   "cell_type": "markdown",
   "metadata": {},
   "source": [
    "#### Evaluating model performance"
   ]
  },
  {
   "cell_type": "code",
   "execution_count": null,
   "metadata": {},
   "outputs": [],
   "source": [
    "y_train_pred = dt.predict(X_train)\n",
    "y_test_pred = dt.predict(X_test)"
   ]
  },
  {
   "cell_type": "code",
   "execution_count": null,
   "metadata": {},
   "outputs": [],
   "source": [
    "from sklearn.metrics import confusion_matrix, accuracy_score"
   ]
  },
  {
   "cell_type": "code",
   "execution_count": null,
   "metadata": {},
   "outputs": [],
   "source": [
    "print(accuracy_score(y_train, y_train_pred))\n",
    "confusion_matrix(y_train, y_train_pred)"
   ]
  },
  {
   "cell_type": "code",
   "execution_count": null,
   "metadata": {},
   "outputs": [],
   "source": [
    "print(accuracy_score(y_test, y_test_pred))\n",
    "confusion_matrix(y_test, y_test_pred)"
   ]
  },
  {
   "cell_type": "markdown",
   "metadata": {},
   "source": [
    "Creating helper functions to evaluate model performance and help plot the decision tree"
   ]
  },
  {
   "cell_type": "code",
   "execution_count": null,
   "metadata": {},
   "outputs": [],
   "source": [
    "def get_dt_graph(dt_classifier):\n",
    "    dot_data = StringIO()\n",
    "    export_graphviz(dt_classifier, out_file=dot_data, filled=True,rounded=True,\n",
    "                    feature_names=X.columns, \n",
    "                    class_names=['Disease', \"No Disease\"])\n",
    "    graph = pydotplus.graph_from_dot_data(dot_data.getvalue())\n",
    "    return graph"
   ]
  },
  {
   "cell_type": "code",
   "execution_count": null,
   "metadata": {},
   "outputs": [],
   "source": [
    "def evaluate_model(dt_classifier):\n",
    "    print(\"Train Accuracy :\", accuracy_score(y_train, dt_classifier.predict(X_train)))\n",
    "    print(\"Train Confusion Matrix:\")\n",
    "    print(confusion_matrix(y_train, dt_classifier.predict(X_train)))\n",
    "    print(\"-\"*50)\n",
    "    print(\"Test Accuracy :\", accuracy_score(y_test, dt_classifier.predict(X_test)))\n",
    "    print(\"Test Confusion Matrix:\")\n",
    "    print(confusion_matrix(y_test, dt_classifier.predict(X_test)))"
   ]
  },
  {
   "cell_type": "markdown",
   "metadata": {},
   "source": [
    "### Without setting any hyper-parameters"
   ]
  },
  {
   "cell_type": "code",
   "execution_count": null,
   "metadata": {},
   "outputs": [],
   "source": [
    "dt_default = DecisionTreeClassifier(random_state=42)\n",
    "dt_default.fit(X_train, y_train)"
   ]
  },
  {
   "cell_type": "code",
   "execution_count": null,
   "metadata": {},
   "outputs": [],
   "source": [
    "gph = get_dt_graph(dt_default)\n",
    "Image(gph.create_png())"
   ]
  },
  {
   "cell_type": "code",
   "execution_count": null,
   "metadata": {},
   "outputs": [],
   "source": [
    "evaluate_model(dt_default)"
   ]
  },
  {
   "cell_type": "code",
   "execution_count": null,
   "metadata": {},
   "outputs": [],
   "source": [
    "from sklearn.metrics import accuracy_score, classification_report\n",
    "import json"
   ]
  },
  {
   "cell_type": "code",
   "execution_count": null,
   "metadata": {},
   "outputs": [],
   "source": [
    "dt_default.transformer = generalDtTransformer\n",
    "dt_default.mainPredictor = partial(generalDtPredictor,dt_default)"
   ]
  },
  {
   "cell_type": "code",
   "execution_count": null,
   "metadata": {},
   "outputs": [],
   "source": [
    "y_pred = dt_default.predict(generalDtTransformer(X_test))\n",
    "# y_pred\n",
    "score = accuracy_score(y_test, y_pred)\n",
    "# score\n",
    "report = classification_report(y_test, y_pred, output_dict=True)\n",
    "# report"
   ]
  },
  {
   "cell_type": "code",
   "execution_count": null,
   "metadata": {},
   "outputs": [],
   "source": [
    "dt_default_metadata = {\n",
    "    \"modelName\": \"anahi_bautista_dTModelDefault\",\n",
    "    \"version\": \"1.0.1\",\n",
    "    \"params\": dt_default.get_params(),  # All model hyperparameters\n",
    "    \"score\": float(score),         # Accuracy\n",
    "    \"modelLibrary\": \"sklearn.tree.DecisionTreeClassifier\",\n",
    "    \"libraryMetadata\": {\n",
    "        \"feature_importances\": dt_default.feature_importances_.tolist(),\n",
    "        \"n_features\": int(dt_default.n_features_in_),\n",
    "        \"n_classes\": int(dt_default.n_classes_),\n",
    "        \"classes\": dt_default.classes_.tolist(),\n",
    "        \"depth\": int(dt_default.get_depth()),\n",
    "        \"n_leaves\": int(dt_default.get_n_leaves()),\n",
    "        \"classification_report\": report\n",
    "    },\n",
    "     \"sampleData\": {\n",
    "        \"dataForTransfer\": hDSampleData\n",
    "    }\n",
    "}"
   ]
  },
  {
   "cell_type": "code",
   "execution_count": null,
   "metadata": {},
   "outputs": [],
   "source": [
    "registerAJrjModel(\n",
    "    dt_default,\n",
    "    dt_default_metadata\n",
    ")"
   ]
  },
  {
   "cell_type": "markdown",
   "metadata": {},
   "source": [
    "### Controlling the depth of the tree"
   ]
  },
  {
   "cell_type": "code",
   "execution_count": null,
   "metadata": {},
   "outputs": [],
   "source": [
    "?DecisionTreeClassifier"
   ]
  },
  {
   "cell_type": "code",
   "execution_count": null,
   "metadata": {},
   "outputs": [],
   "source": [
    "dt_depth = DecisionTreeClassifier(max_depth=3)\n",
    "dt_depth.fit(X_train, y_train)"
   ]
  },
  {
   "cell_type": "code",
   "execution_count": null,
   "metadata": {},
   "outputs": [],
   "source": [
    "gph = get_dt_graph(dt_depth) \n",
    "Image(gph.create_png())"
   ]
  },
  {
   "cell_type": "code",
   "execution_count": null,
   "metadata": {},
   "outputs": [],
   "source": [
    "evaluate_model(dt_depth)"
   ]
  },
  {
   "cell_type": "code",
   "execution_count": null,
   "metadata": {},
   "outputs": [],
   "source": [
    "dt_depth.transformer = generalDtTransformer\n",
    "dt_depth.mainPredictor = partial(generalDtPredictor,dt_depth)\n",
    "y_pred = dt_depth.predict(generalDtTransformer(X_test))\n",
    "# y_pred\n",
    "score = accuracy_score(y_test, y_pred)\n",
    "# score\n",
    "report = classification_report(y_test, y_pred, output_dict=True)\n",
    "# report\n",
    "\n",
    "dt_depth_metadata = {\n",
    "    \"modelName\": \"anahi_bautista_dTModelDepth\",\n",
    "    \"version\": \"1.0.1\",\n",
    "    \"params\": dt_depth.get_params(),  # All model hyperparameters\n",
    "    \"score\": float(score),         # Accuracy\n",
    "    \"modelLibrary\": \"sklearn.tree.DecisionTreeClassifier\",\n",
    "    \"libraryMetadata\": {\n",
    "        \"feature_importances\": dt_depth.feature_importances_.tolist(),\n",
    "        \"n_features\": int(dt_depth.n_features_in_),\n",
    "        \"n_classes\": int(dt_depth.n_classes_),\n",
    "        \"classes\": dt_depth.classes_.tolist(),\n",
    "        \"depth\": int(dt_depth.get_depth()),\n",
    "        \"n_leaves\": int(dt_depth.get_n_leaves()),\n",
    "        \"classification_report\": report\n",
    "    },\n",
    "     \"sampleData\": {\n",
    "        \"dataForTransfer\": hDSampleData\n",
    "    }\n",
    "}\n",
    "registerAJrjModel(\n",
    "    dt_depth,\n",
    "    dt_depth_metadata\n",
    ")"
   ]
  },
  {
   "cell_type": "markdown",
   "metadata": {},
   "source": [
    "### Specifying minimum samples before split"
   ]
  },
  {
   "cell_type": "code",
   "execution_count": null,
   "metadata": {},
   "outputs": [],
   "source": [
    "dt_min_split = DecisionTreeClassifier(min_samples_split=20)\n",
    "dt_min_split.fit(X_train, y_train)"
   ]
  },
  {
   "cell_type": "code",
   "execution_count": null,
   "metadata": {},
   "outputs": [],
   "source": [
    "gph = get_dt_graph(dt_min_split) \n",
    "Image(gph.create_png())"
   ]
  },
  {
   "cell_type": "code",
   "execution_count": null,
   "metadata": {},
   "outputs": [],
   "source": [
    "evaluate_model(dt_min_split)"
   ]
  },
  {
   "cell_type": "code",
   "execution_count": null,
   "metadata": {},
   "outputs": [],
   "source": [
    "dt_min_split.transformer = generalDtTransformer\n",
    "dt_min_split.mainPredictor = partial(generalDtPredictor,dt_min_split)\n",
    "y_pred = dt_min_split.predict(generalDtTransformer(X_test))\n",
    "# y_pred\n",
    "score = accuracy_score(y_test, y_pred)\n",
    "# score\n",
    "report = classification_report(y_test, y_pred, output_dict=True)\n",
    "# report\n",
    "\n",
    "dt_min_split_metadata = {\n",
    "    \"modelName\": \"anahi_bautista_dTModelMinSplit\",\n",
    "    \"version\": \"1.0.1\",\n",
    "    \"params\": dt_min_split.get_params(),  # All model hyperparameters\n",
    "    \"score\": float(score),         # Accuracy\n",
    "    \"modelLibrary\": \"sklearn.tree.DecisionTreeClassifier\",\n",
    "    \"libraryMetadata\": {\n",
    "        \"feature_importances\": dt_min_split.feature_importances_.tolist(),\n",
    "        \"n_features\": int(dt_min_split.n_features_in_),\n",
    "        \"n_classes\": int(dt_min_split.n_classes_),\n",
    "        \"classes\": dt_min_split.classes_.tolist(),\n",
    "        \"depth\": int(dt_min_split.get_depth()),\n",
    "        \"n_leaves\": int(dt_min_split.get_n_leaves()),\n",
    "        \"classification_report\": report\n",
    "    },\n",
    "     \"sampleData\": {\n",
    "        \"dataForTransfer\": hDSampleData\n",
    "    }\n",
    "}\n",
    "registerAJrjModel(\n",
    "    dt_min_split,\n",
    "    dt_min_split_metadata\n",
    ")"
   ]
  },
  {
   "cell_type": "markdown",
   "metadata": {},
   "source": [
    "### Specifying minimum samples in leaf node"
   ]
  },
  {
   "cell_type": "code",
   "execution_count": null,
   "metadata": {},
   "outputs": [],
   "source": [
    "dt_min_leaf = DecisionTreeClassifier(min_samples_leaf=20, random_state=42)\n",
    "dt_min_leaf.fit(X_train, y_train)"
   ]
  },
  {
   "cell_type": "code",
   "execution_count": null,
   "metadata": {},
   "outputs": [],
   "source": [
    "gph = get_dt_graph(dt_min_leaf)\n",
    "Image(gph.create_png())"
   ]
  },
  {
   "cell_type": "code",
   "execution_count": null,
   "metadata": {},
   "outputs": [],
   "source": [
    "evaluate_model(dt_min_leaf)"
   ]
  },
  {
   "cell_type": "code",
   "execution_count": null,
   "metadata": {},
   "outputs": [],
   "source": [
    "dt_min_leaf.transformer = generalDtTransformer\n",
    "dt_min_leaf.mainPredictor = partial(generalDtPredictor,dt_min_leaf)\n",
    "y_pred = dt_min_leaf.predict(generalDtTransformer(X_test))\n",
    "# y_pred\n",
    "score = accuracy_score(y_test, y_pred)\n",
    "# score\n",
    "report = classification_report(y_test, y_pred, output_dict=True)\n",
    "# report\n",
    "\n",
    "dt_min_leaf_metadata = {\n",
    "    \"modelName\": \"anahi_bautista_dTModelMinLeaf\",\n",
    "    \"version\": \"1.0.1\",\n",
    "    \"params\": dt_min_leaf.get_params(),  # All model hyperparameters\n",
    "    \"score\": float(score),         # Accuracy\n",
    "    \"modelLibrary\": \"sklearn.tree.DecisionTreeClassifier\",\n",
    "    \"libraryMetadata\": {\n",
    "        \"feature_importances\": dt_min_leaf.feature_importances_.tolist(),\n",
    "        \"n_features\": int(dt_min_leaf.n_features_in_),\n",
    "        \"n_classes\": int(dt_min_leaf.n_classes_),\n",
    "        \"classes\": dt_min_leaf.classes_.tolist(),\n",
    "        \"depth\": int(dt_min_leaf.get_depth()),\n",
    "        \"n_leaves\": int(dt_min_leaf.get_n_leaves()),\n",
    "        \"classification_report\": report\n",
    "    },\n",
    "     \"sampleData\": {\n",
    "        \"dataForTransfer\": hDSampleData\n",
    "    }\n",
    "}\n",
    "registerAJrjModel(\n",
    "    dt_min_leaf,\n",
    "    dt_min_leaf_metadata\n",
    ")"
   ]
  },
  {
   "cell_type": "markdown",
   "metadata": {},
   "source": [
    "### Using Entropy instead of Gini"
   ]
  },
  {
   "cell_type": "code",
   "execution_count": null,
   "metadata": {},
   "outputs": [],
   "source": [
    "dt_min_leaf_entropy = DecisionTreeClassifier(min_samples_leaf=20, random_state=42, criterion=\"entropy\")\n",
    "dt_min_leaf_entropy.fit(X_train, y_train)"
   ]
  },
  {
   "cell_type": "code",
   "execution_count": null,
   "metadata": {},
   "outputs": [],
   "source": [
    "gph = get_dt_graph(dt_min_leaf_entropy)\n",
    "Image(gph.create_png())"
   ]
  },
  {
   "cell_type": "code",
   "execution_count": null,
   "metadata": {},
   "outputs": [],
   "source": [
    "evaluate_model(dt_min_leaf_entropy)"
   ]
  },
  {
   "cell_type": "code",
   "execution_count": null,
   "metadata": {},
   "outputs": [],
   "source": [
    "dt_min_leaf_entropy.transformer = generalDtTransformer\n",
    "dt_min_leaf_entropy.mainPredictor = partial(generalDtPredictor,dt_min_leaf_entropy)\n",
    "y_pred = dt_min_leaf_entropy.predict(generalDtTransformer(X_test))\n",
    "# y_pred\n",
    "score = accuracy_score(y_test, y_pred)\n",
    "# score\n",
    "report = classification_report(y_test, y_pred, output_dict=True)\n",
    "# report\n",
    "\n",
    "dt_min_leaf_entropy_metadata = {\n",
    "    \"modelName\": \"anahi_bautista_dTModelMinLeafEntropy\",\n",
    "    \"version\": \"1.0.1\",\n",
    "    \"params\": dt_min_leaf_entropy.get_params(),  # All model hyperparameters\n",
    "    \"score\": float(score),         # Accuracy\n",
    "    \"modelLibrary\": \"sklearn.tree.DecisionTreeClassifier\",\n",
    "    \"libraryMetadata\": {\n",
    "        \"feature_importances\": dt_min_leaf_entropy.feature_importances_.tolist(),\n",
    "        \"n_features\": int(dt_min_leaf_entropy.n_features_in_),\n",
    "        \"n_classes\": int(dt_min_leaf_entropy.n_classes_),\n",
    "        \"classes\": dt_min_leaf_entropy.classes_.tolist(),\n",
    "        \"depth\": int(dt_min_leaf_entropy.get_depth()),\n",
    "        \"n_leaves\": int(dt_min_leaf_entropy.get_n_leaves()),\n",
    "        \"classification_report\": report\n",
    "    },\n",
    "     \"sampleData\": {\n",
    "        \"dataForTransfer\": hDSampleData\n",
    "    }\n",
    "}\n",
    "registerAJrjModel(\n",
    "    dt_min_leaf_entropy,\n",
    "    dt_min_leaf_entropy_metadata\n",
    ")"
   ]
  },
  {
   "cell_type": "markdown",
   "metadata": {},
   "source": [
    "### Hyper-parameter tuning"
   ]
  },
  {
   "cell_type": "code",
   "execution_count": null,
   "metadata": {},
   "outputs": [],
   "source": [
    "dt = DecisionTreeClassifier(random_state=42)"
   ]
  },
  {
   "cell_type": "code",
   "execution_count": null,
   "metadata": {},
   "outputs": [],
   "source": [
    "from sklearn.model_selection import GridSearchCV"
   ]
  },
  {
   "cell_type": "code",
   "execution_count": null,
   "metadata": {},
   "outputs": [],
   "source": [
    "# Create the parameter grid based on the results of random search \n",
    "params = {\n",
    "    'max_depth': [2, 3, 5, 10, 20],\n",
    "    'min_samples_leaf': [5, 10, 20, 50, 100],\n",
    "    'criterion': [\"gini\", \"entropy\"]\n",
    "}"
   ]
  },
  {
   "cell_type": "code",
   "execution_count": null,
   "metadata": {},
   "outputs": [],
   "source": [
    "# grid_search = GridSearchCV(estimator=dt, \n",
    "#                            param_grid=params, \n",
    "#                            cv=4, n_jobs=-1, verbose=1, scoring = \"f1\")"
   ]
  },
  {
   "cell_type": "code",
   "execution_count": null,
   "metadata": {},
   "outputs": [],
   "source": [
    "# Instantiate the grid search model\n",
    "grid_search = GridSearchCV(estimator=dt, \n",
    "                           param_grid=params, \n",
    "                           cv=4, n_jobs=-1, verbose=1, scoring = \"accuracy\")"
   ]
  },
  {
   "cell_type": "code",
   "execution_count": null,
   "metadata": {},
   "outputs": [],
   "source": [
    "%%time\n",
    "grid_search.fit(X_train, y_train)"
   ]
  },
  {
   "cell_type": "code",
   "execution_count": null,
   "metadata": {},
   "outputs": [],
   "source": [
    "score_df = pd.DataFrame(grid_search.cv_results_)\n",
    "score_df.head()"
   ]
  },
  {
   "cell_type": "code",
   "execution_count": null,
   "metadata": {},
   "outputs": [],
   "source": [
    "score_df.nlargest(5,\"mean_test_score\")"
   ]
  },
  {
   "cell_type": "code",
   "execution_count": null,
   "metadata": {},
   "outputs": [],
   "source": [
    "grid_search.best_estimator_"
   ]
  },
  {
   "cell_type": "code",
   "execution_count": null,
   "metadata": {},
   "outputs": [],
   "source": [
    "dt_best = grid_search.best_estimator_"
   ]
  },
  {
   "cell_type": "code",
   "execution_count": null,
   "metadata": {},
   "outputs": [],
   "source": [
    "evaluate_model(dt_best)"
   ]
  },
  {
   "cell_type": "code",
   "execution_count": null,
   "metadata": {},
   "outputs": [],
   "source": [
    "from sklearn.metrics import classification_report"
   ]
  },
  {
   "cell_type": "code",
   "execution_count": null,
   "metadata": {},
   "outputs": [],
   "source": [
    "print(classification_report(y_test, dt_best.predict(X_test)))"
   ]
  },
  {
   "cell_type": "code",
   "execution_count": null,
   "metadata": {},
   "outputs": [],
   "source": [
    "gph = get_dt_graph(dt_best)\n",
    "Image(gph.create_png())"
   ]
  },
  {
   "cell_type": "code",
   "execution_count": null,
   "metadata": {},
   "outputs": [],
   "source": [
    "dt_best.transformer = generalDtTransformer\n",
    "dt_best.mainPredictor = partial(generalDtPredictor,dt_best)\n",
    "y_pred = dt_best.predict(generalDtTransformer(X_test))\n",
    "# y_pred\n",
    "score = accuracy_score(y_test, y_pred)\n",
    "# score\n",
    "report = classification_report(y_test, y_pred, output_dict=True)\n",
    "# report\n",
    "\n",
    "dt_best_metadata = {\n",
    "    \"modelName\": \"anahi_bautista_dTModelBestAccuracy\",\n",
    "    \"version\": \"1.0.1\",\n",
    "    \"params\": dt_best.get_params(),  # All model hyperparameters\n",
    "    \"score\": float(score),         # Accuracy\n",
    "    \"modelLibrary\": \"sklearn.tree.DecisionTreeClassifier\",\n",
    "    \"libraryMetadata\": {\n",
    "        \"feature_importances\": dt_best.feature_importances_.tolist(),\n",
    "        \"n_features\": int(dt_best.n_features_in_),\n",
    "        \"n_classes\": int(dt_best.n_classes_),\n",
    "        \"classes\": dt_best.classes_.tolist(),\n",
    "        \"depth\": int(dt_best.get_depth()),\n",
    "        \"n_leaves\": int(dt_best.get_n_leaves()),\n",
    "        \"classification_report\": report\n",
    "    },\n",
    "     \"sampleData\": {\n",
    "        \"dataForTransfer\": hDSampleData\n",
    "    }\n",
    "}\n",
    "registerAJrjModel(\n",
    "    dt_best,\n",
    "    dt_best_metadata\n",
    ")"
   ]
  },
  {
   "cell_type": "markdown",
   "metadata": {},
   "source": [
    "# tune for f1\n"
   ]
  },
  {
   "cell_type": "code",
   "execution_count": null,
   "metadata": {},
   "outputs": [],
   "source": [
    "grid_search = GridSearchCV(estimator=dt, \n",
    "                           param_grid=params, \n",
    "                           cv=4, n_jobs=-1, verbose=1, scoring = \"f1\")"
   ]
  },
  {
   "cell_type": "code",
   "execution_count": null,
   "metadata": {},
   "outputs": [],
   "source": [
    "%%time\n",
    "grid_search.fit(X_train, y_train)"
   ]
  },
  {
   "cell_type": "code",
   "execution_count": null,
   "metadata": {},
   "outputs": [],
   "source": [
    "score_df = pd.DataFrame(grid_search.cv_results_)\n",
    "score_df.head()"
   ]
  },
  {
   "cell_type": "code",
   "execution_count": null,
   "metadata": {},
   "outputs": [],
   "source": [
    "score_df.nlargest(5,\"mean_test_score\")"
   ]
  },
  {
   "cell_type": "code",
   "execution_count": null,
   "metadata": {},
   "outputs": [],
   "source": [
    "grid_search.best_estimator_"
   ]
  },
  {
   "cell_type": "code",
   "execution_count": null,
   "metadata": {},
   "outputs": [],
   "source": [
    "dt_best = grid_search.best_estimator_"
   ]
  },
  {
   "cell_type": "code",
   "execution_count": null,
   "metadata": {},
   "outputs": [],
   "source": [
    "evaluate_model(dt_best)"
   ]
  },
  {
   "cell_type": "code",
   "execution_count": null,
   "metadata": {},
   "outputs": [],
   "source": [
    "from sklearn.metrics import classification_report"
   ]
  },
  {
   "cell_type": "code",
   "execution_count": null,
   "metadata": {},
   "outputs": [],
   "source": [
    "print(classification_report(y_test, dt_best.predict(X_test)))"
   ]
  },
  {
   "cell_type": "code",
   "execution_count": null,
   "metadata": {},
   "outputs": [],
   "source": [
    "gph = get_dt_graph(dt_best)\n",
    "Image(gph.create_png())"
   ]
  },
  {
   "cell_type": "code",
   "execution_count": null,
   "metadata": {},
   "outputs": [],
   "source": [
    "dt_best.transformer = generalDtTransformer\n",
    "dt_best.mainPredictor = partial(generalDtPredictor,dt_best)\n",
    "y_pred = dt_best.predict(generalDtTransformer(X_test))\n",
    "# y_pred\n",
    "score = accuracy_score(y_test, y_pred)\n",
    "# score\n",
    "report = classification_report(y_test, y_pred, output_dict=True)\n",
    "# report\n",
    "\n",
    "dt_best_metadata = {\n",
    "    \"modelName\": \"anahi_bautista_dTModelBestF1\",\n",
    "    \"version\": \"1.0.1\",\n",
    "    \"params\": dt_best.get_params(),  # All model hyperparameters\n",
    "    \"score\": float(score),         # Accuracy\n",
    "    \"modelLibrary\": \"sklearn.tree.DecisionTreeClassifier\",\n",
    "    \"libraryMetadata\": {\n",
    "        \"feature_importances\": dt_best.feature_importances_.tolist(),\n",
    "        \"n_features\": int(dt_best.n_features_in_),\n",
    "        \"n_classes\": int(dt_best.n_classes_),\n",
    "        \"classes\": dt_best.classes_.tolist(),\n",
    "        \"depth\": int(dt_best.get_depth()),\n",
    "        \"n_leaves\": int(dt_best.get_n_leaves()),\n",
    "        \"classification_report\": report\n",
    "    },\n",
    "     \"sampleData\": {\n",
    "        \"dataForTransfer\": hDSampleData\n",
    "    }\n",
    "}\n",
    "registerAJrjModel(\n",
    "    dt_best,\n",
    "    dt_best_metadata\n",
    ")"
   ]
  },
  {
   "cell_type": "code",
   "execution_count": null,
   "metadata": {},
   "outputs": [],
   "source": []
  }
 ],
 "metadata": {
  "kernelspec": {
   "display_name": "Python 3 (ipykernel)",
   "language": "python",
   "name": "python3"
  },
  "language_info": {
   "codemirror_mode": {
    "name": "ipython",
    "version": 3
   },
   "file_extension": ".py",
   "mimetype": "text/x-python",
   "name": "python",
   "nbconvert_exporter": "python",
   "pygments_lexer": "ipython3",
   "version": "3.13.3"
  }
 },
 "nbformat": 4,
 "nbformat_minor": 4
}
